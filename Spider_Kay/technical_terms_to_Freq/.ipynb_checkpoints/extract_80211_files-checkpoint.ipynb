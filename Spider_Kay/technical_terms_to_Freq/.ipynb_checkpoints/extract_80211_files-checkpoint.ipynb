{
 "cells": [
  {
   "cell_type": "code",
   "execution_count": 1,
   "metadata": {},
   "outputs": [],
   "source": [
    "#this file is to read the 80211IncluldedFileList.xlsx and store the result in a dat files"
   ]
  },
  {
   "cell_type": "code",
   "execution_count": null,
   "metadata": {},
   "outputs": [],
   "source": []
  },
  {
   "cell_type": "code",
   "execution_count": null,
   "metadata": {},
   "outputs": [],
   "source": []
  },
  {
   "cell_type": "code",
   "execution_count": 2,
   "metadata": {},
   "outputs": [],
   "source": [
    "#this file is to extract text info from docx files and ppt files"
   ]
  },
  {
   "cell_type": "code",
   "execution_count": 3,
   "metadata": {},
   "outputs": [],
   "source": [
    "dirPath = \"F:\\WireLessNLPGRA\\gitFiles\\Wifi-WiMax-Doc-Analysis\\Spider_Kay\\80211mentor\""
   ]
  },
  {
   "cell_type": "code",
   "execution_count": 4,
   "metadata": {},
   "outputs": [],
   "source": [
    "docName = \"18__11-18-1563-00-0000-press-release-for-extremely-high-throughput-sg-and-real-time-applications-tig.docx\""
   ]
  },
  {
   "cell_type": "code",
   "execution_count": 5,
   "metadata": {},
   "outputs": [],
   "source": [
    "excelName = \"18__11-18-1544-00-00az-tgaz-cc-database.xls\""
   ]
  },
  {
   "cell_type": "code",
   "execution_count": 6,
   "metadata": {},
   "outputs": [],
   "source": [
    "import win32com\n",
    "import os"
   ]
  },
  {
   "cell_type": "code",
   "execution_count": 7,
   "metadata": {},
   "outputs": [],
   "source": [
    "# #coding:utf-8\n",
    "# import win32com\n",
    "# import win32con\n",
    "# import win32gui\n",
    "# import codecs\n",
    "# from win32com.client import Dispatch\n",
    "# import pythoncom\n",
    "\n",
    "# class MSOffice2txt():\n",
    "#     def __init__(self, fileType=['doc','ppt']):\n",
    "#         self.docCom = None\n",
    "#         self.pptCom = None\n",
    "#         pythoncom.CoInitialize()\n",
    "#         if type(fileType) is not list:\n",
    "#             return 'Error, please check the fileType, it must be list[]'\n",
    "#         for ft in fileType:\n",
    "#             if ft == 'doc':\n",
    "#                 self.docCom = self.docApplicationOpen()\n",
    "#             elif ft == 'ppt':\n",
    "#                 self.pptCom = self.pptApplicationOpen()\n",
    "\n",
    "#     def close(self):\n",
    "#         self.docApplicationClose(self.docCom)\n",
    "#         self.pptApplicationClose(self.pptCom)\n",
    "\n",
    "#     def docApplicationOpen(self):\n",
    "#         docCom = win32com.client.Dispatch('Word.Application')\n",
    "# #         docCom.Visible = 1\n",
    "# #         docCom.DisplayAlerts = 0\n",
    "# #         docHwnd = win32gui.FindWindow(None, 'Microsoft Word')\n",
    "# #         win32gui.ShowWindow(docHwnd, win32con.SW_HIDE)\n",
    "#         return docCom\n",
    "\n",
    "#     def docApplicationClose(self,docCom):\n",
    "#         if docCom is not None:\n",
    "#             docCom.Quit()\n",
    "\n",
    "#     def doc2Txt(self, docCom, docFile, txtFile):\n",
    "#         doc = docCom.Documents.Open(FileName=docFile,ReadOnly=1)\n",
    "#         for para in doc.paragraphs:\n",
    "#             print(para.text)\n",
    "#         doc.SaveAs(txtFile, 2)\n",
    "#         print(doc.Content.Text)\n",
    "#         doc.Close()\n",
    "\n",
    "    \n",
    "\n",
    "#     def pptApplicationOpen(self):\n",
    "#         pptCom = win32com.client.Dispatch('PowerPoint.Application')\n",
    "# #         pptCom.Visible = 1\n",
    "# #         pptCom.DisplayAlerts = 0\n",
    "# #         pptHwnd = win32gui.FindWindow(None, 'Microsoft PowerPoint')\n",
    "# #         win32gui.ShowWindow(pptHwnd, win32con.SW_HIDE)\n",
    "#         return pptCom\n",
    "\n",
    "#     def pptApplicationClose(self, pptCom):\n",
    "#         if pptCom is not None:\n",
    "#             pptCom.Quit()\n",
    "\n",
    "#     def ppt2txt(self, pptCom, pptFile, txtFile):\n",
    "#         ppt = pptCom.Presentations.Open(pptFile,ReadOnly=1, Untitled=0, WithWindow=0)\n",
    "#         f = codecs.open(txtFile,\"w\",'gb18030')\n",
    "#         slide_count = ppt.Slides.Count\n",
    "#         for i in xrange(1,slide_count + 1):\n",
    "#             shape_count = ppt.Slides(i).Shapes.Count\n",
    "#             for j in xrange(1,shape_count + 1):\n",
    "#                 if ppt.Slides(i).Shapes(j).HasTextFrame:\n",
    "#                     s = ppt.Slides(i).Shapes(j).TextFrame.TextRange.Text\n",
    "#                     f.write(s)\n",
    "#         f.close()\n",
    "#         ppt.Close()\n",
    "\n",
    "#     def translate(self, filename, txtFilename):\n",
    "#         if filename.endswith('doc') or filename.endswith('docx'):\n",
    "#             if self.docCom is None:\n",
    "#                 self.docCom = self.docApplicationOpen()\n",
    "#             self.doc2Txt(self.docCom, filename, txtFilename)\n",
    "#             return True\n",
    "#         elif filename.endswith('ppt') or filename.endswith('pptx'):\n",
    "#             if self.pptCom is None:\n",
    "#                 self.pptCom = self.pptApplicationOpen()\n",
    "#             self.ppt2txt(self.pptCom, filename, txtFilename)\n",
    "#             return True\n",
    "#         else:\n",
    "#             return False\n",
    "\n"
   ]
  },
  {
   "cell_type": "code",
   "execution_count": 8,
   "metadata": {},
   "outputs": [],
   "source": [
    "# if __name__=='__main__':\n",
    "#     msoffice = MSOffice2txt()\n",
    "#     filename = os.path.join(dirPath, docName)\n",
    "#     if msoffice.translate(filename, 'temp.txt'):\n",
    "#         print('Successed!')\n",
    "#     else:\n",
    "#         print('Failed!')\n",
    "#     msoffice.close()"
   ]
  },
  {
   "cell_type": "code",
   "execution_count": 9,
   "metadata": {},
   "outputs": [
    {
     "name": "stdout",
     "output_type": "stream",
     "text": [
      "段落数:12\n",
      "IEEE P802.11\n",
      "Wireless LANs\n",
      "\n",
      "\n",
      "\n",
      "Process\n",
      "\n",
      "This press release was authored by the IEEE marketing department (represented by Jeff Pane) after interviewing 802.11 subject-matter experts Michael Montemurro, Laurent Cariou, and Vinko Erceg (EHT SG) and Allan Jones and Kate Meng (RTA TIG). The press release is being notified to the WG and will be notified to the EC for comment.\n",
      "\n",
      "Press Release:\n",
      "\n",
      "\n",
      "\n",
      "\n",
      "\n",
      "\n",
      "第0段的内容是：IEEE P802.11\n",
      "Wireless LANs\n",
      "第1段的内容是：\n",
      "第2段的内容是：\n",
      "\n",
      "第3段的内容是：Process\n",
      "第4段的内容是：\n",
      "第5段的内容是：This press release was authored by the IEEE marketing department (represented by Jeff Pane) after interviewing 802.11 subject-matter experts Michael Montemurro, Laurent Cariou, and Vinko Erceg (EHT SG) and Allan Jones and Kate Meng (RTA TIG). The press release is being notified to the WG and will be notified to the EC for comment.\n",
      "第6段的内容是：\n",
      "第7段的内容是：Press Release:\n",
      "第8段的内容是：\n",
      "第9段的内容是：\n",
      "第10段的内容是：\n",
      "第11段的内容是：\n",
      "\n",
      "\n"
     ]
    }
   ],
   "source": [
    "#读取docx中的文本代码示例\n",
    "import docx\n",
    "#获取文档对象\n",
    "file=docx.Document(os.path.join(dirPath, docName))\n",
    "print(\"段落数:\"+str(len(file.paragraphs)))#段落数为13，每个回车隔离一段\n",
    "\n",
    "#输出每一段的内容\n",
    "for para in file.paragraphs:\n",
    "    print(para.text)\n",
    "\n",
    "#输出段落编号及段落内容\n",
    "for i in range(len(file.paragraphs)):\n",
    "    print(\"第\"+str(i)+\"段的内容是：\"+file.paragraphs[i].text)\n",
    "\n"
   ]
  },
  {
   "cell_type": "code",
   "execution_count": null,
   "metadata": {},
   "outputs": [],
   "source": [
    "import comtypes.client\n",
    "\n",
    "import os\n",
    " \n",
    "def init_powerpoint():\n",
    "    powerpoint = comtypes.client.CreateObject(\"Powerpoint.Application\")\n",
    "    powerpoint.Visible = 1\n",
    "    return powerpoint\n",
    " \n",
    "def ppt_to_pdf(powerpoint, inputFileName, outputFileName, formatType = 32):\n",
    "    if outputFileName[-3:] != 'pdf':\n",
    "        outputFileName = outputFileName + \".pdf\"\n",
    "    deck = powerpoint.Presentations.Open(inputFileName)\n",
    "    deck.SaveAs(outputFileName, formatType)# formatType = 32 for ppt to pdf\n",
    "    deck.Close()\n",
    " \n",
    "def convert_files_in_folder(powerpoint, folder):\n",
    "    files = os.listdir(folder)\n",
    "    pptfiles = [f for f in files if f.endswith((\".ppt\", \".pptx\"))]\n",
    "    for pptfile in pptfiles:\n",
    "        fullpath = os.path.join(cwd, pptfile)\n",
    "        ppt_to_pdf(powerpoint, fullpath, fullpath)\n",
    " \n",
    "\n",
    "    "
   ]
  },
  {
   "cell_type": "code",
   "execution_count": null,
   "metadata": {},
   "outputs": [],
   "source": [
    "powerpoint = init_powerpoint()\n",
    "cwd = \"F:\\\\WireLessNLPGRA\\\\80211IncludedFiles\"\n",
    "convert_files_in_folder(powerpoint, cwd)\n",
    "powerpoint.Quit()"
   ]
  },
  {
   "cell_type": "code",
   "execution_count": null,
   "metadata": {},
   "outputs": [],
   "source": []
  }
 ],
 "metadata": {
  "kernelspec": {
   "display_name": "Python 3",
   "language": "python",
   "name": "python3"
  },
  "language_info": {
   "codemirror_mode": {
    "name": "ipython",
    "version": 3
   },
   "file_extension": ".py",
   "mimetype": "text/x-python",
   "name": "python",
   "nbconvert_exporter": "python",
   "pygments_lexer": "ipython3",
   "version": "3.6.5"
  }
 },
 "nbformat": 4,
 "nbformat_minor": 2
}
