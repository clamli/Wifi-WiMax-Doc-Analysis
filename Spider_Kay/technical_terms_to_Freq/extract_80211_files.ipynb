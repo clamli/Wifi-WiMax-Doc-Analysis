{
 "cells": [
  {
   "cell_type": "code",
   "execution_count": 1,
   "metadata": {},
   "outputs": [
    {
     "name": "stderr",
     "output_type": "stream",
     "text": [
      "F:\\anaconda\\lib\\site-packages\\pandas\\io\\excel.py:329: FutureWarning: The `sheetname` keyword is deprecated, use `sheet_name` instead\n",
      "  **kwds)\n"
     ]
    }
   ],
   "source": [
    "#read include file list\n",
    "import pandas as pd\n",
    "\n",
    "df = pd.read_excel('80211includedFileList.xls', sheetname=0) # can also index sheet by name or fetch all sheets\n",
    "mylist = df['download'].tolist()"
   ]
  },
  {
   "cell_type": "code",
   "execution_count": 2,
   "metadata": {},
   "outputs": [],
   "source": [
    "fileNames = []\n",
    "for http in mylist:\n",
    "    splitted = http.split(\"/\")\n",
    "    fileNames.append(splitted[-2] + \"__\" + splitted[-1])"
   ]
  },
  {
   "cell_type": "code",
   "execution_count": 7,
   "metadata": {},
   "outputs": [
    {
     "ename": "SyntaxError",
     "evalue": "invalid syntax (<ipython-input-7-3504defc781b>, line 25)",
     "output_type": "error",
     "traceback": [
      "\u001b[1;36m  File \u001b[1;32m\"<ipython-input-7-3504defc781b>\"\u001b[1;36m, line \u001b[1;32m25\u001b[0m\n\u001b[1;33m    if (count % 10 == 0):\u001b[0m\n\u001b[1;37m     ^\u001b[0m\n\u001b[1;31mSyntaxError\u001b[0m\u001b[1;31m:\u001b[0m invalid syntax\n"
     ]
    }
   ],
   "source": [
    "import comtypes.client\n",
    "\n",
    "import os\n",
    " \n",
    "def init_powerpoint():\n",
    "    powerpoint = comtypes.client.CreateObject(\"Powerpoint.Application\")\n",
    "    powerpoint.Visible = 1\n",
    "    return powerpoint\n",
    " \n",
    "def ppt_to_pdf(powerpoint, inputFileName, outputFileName, formatType = 32):\n",
    "    print(outputFileName)\n",
    "#     if outputFileName[-3:] != 'pdf':\n",
    "    outputFileName = outputFileName + \".pdf\"\n",
    "    deck = powerpoint.Presentations.Open(inputFileName)\n",
    "    deck.SaveAs(outputFileName, formatType)# formatType = 32 for ppt to pdf\n",
    "    deck.Close()\n",
    "def convert_files_in_folder(powerpoint, inputDir, files, outputDi, start):\n",
    "    pptfiles = [f for f in files[start:] if f.endswith((\".ppt\", \".pptx\"))]\n",
    "    count = start\n",
    "    for pptfile in pptfiles:\n",
    "        fullpath = os.path.join(inputDir, pptfile)\n",
    "        outputPath = os.path.join(outputDir, pptfile)\n",
    "        try:\n",
    "            ppt_to_pdf(powerpoint, fullpath, outputPath)\n",
    "        if (count % 10 == 0):\n",
    "            print(count)\n",
    "        count += 1\n",
    "\n",
    " \n",
    "\n",
    "    "
   ]
  },
  {
   "cell_type": "code",
   "execution_count": 8,
   "metadata": {},
   "outputs": [
    {
     "name": "stdout",
     "output_type": "stream",
     "text": [
      "F:\\WireLessNLPGRA\\80211IncludedFiles\\18__11-18-0625-04-000m-2018-may-tgmd-agenda.pptx\n",
      "940\n",
      "F:\\WireLessNLPGRA\\80211IncludedFiles\\18__11-18-0865-01-000m-beacon-protection.ppt\n",
      "F:\\WireLessNLPGRA\\80211IncludedFiles\\18__11-18-0659-03-coex-agenda-for-may-2018-in-warsaw.pptx\n",
      "F:\\WireLessNLPGRA\\80211IncludedFiles\\18__11-18-0854-01-00ba-tx-and-rx-requirements-for-802-11ba-part-ii.pptx\n",
      "F:\\WireLessNLPGRA\\80211IncludedFiles\\18__11-18-0948-00-00lc-potential-tgbb-task-group-documents.pptx\n",
      "F:\\WireLessNLPGRA\\80211IncludedFiles\\18__11-18-0645-07-00ay-tg-ay-may-2018-meeting-agenda.ppt\n",
      "F:\\WireLessNLPGRA\\80211IncludedFiles\\18__11-18-0914-02-00ax-tgax-may-2018-mac-ad-hoc-meeting-agenda.pptx\n",
      "F:\\WireLessNLPGRA\\80211IncludedFiles\\18__11-18-0860-02-0ngv-ngv-phy-feasibility-discussions.pptx\n",
      "F:\\WireLessNLPGRA\\80211IncludedFiles\\18__11-18-0924-01-0ngv-time-variant-non-stationary-v2v-channel-model.pptx\n",
      "F:\\WireLessNLPGRA\\80211IncludedFiles\\18__11-18-0860-01-0ngv-ngv-phy-feasibility-discussions.pptx\n",
      "F:\\WireLessNLPGRA\\80211IncludedFiles\\18__11-18-0859-01-0ngv-ngv-sg-par-discussions.pptx\n",
      "950\n",
      "F:\\WireLessNLPGRA\\80211IncludedFiles\\18__11-18-0846-01-0wng-next-generation-phy-mac-in-sub-7ghz.pptx\n",
      "F:\\WireLessNLPGRA\\80211IncludedFiles\\18__11-18-0645-06-00ay-tg-ay-may-2018-meeting-agenda.ppt\n",
      "F:\\WireLessNLPGRA\\80211IncludedFiles\\18__11-18-0596-04-00az-tgaz-may-meeting-agenda.pptx\n",
      "F:\\WireLessNLPGRA\\80211IncludedFiles\\18__11-18-0584-04-00ba-on-symbol-generation.pptx\n",
      "F:\\WireLessNLPGRA\\80211IncludedFiles\\18__11-18-0800-01-00ax-tgax-may-2018-meeting-agenda-for-phy-adhoc.pptx\n",
      "F:\\WireLessNLPGRA\\80211IncludedFiles\\18__11-18-0801-01-00ba-ook-waveform-generation-for-fdma-transmission.pptx\n",
      "F:\\WireLessNLPGRA\\80211IncludedFiles\\18__11-18-0625-03-000m-2018-may-tgmd-agenda.pptx\n",
      "F:\\WireLessNLPGRA\\80211IncludedFiles\\18__11-18-0637-05-0ngv-ngv-sg-may-2018-meeting-agenda.ppt\n",
      "F:\\WireLessNLPGRA\\80211IncludedFiles\\18__11-18-0856-01-00lc-commercial-solutions-for-classified-csfc-for-li-fi.pptx\n",
      "F:\\WireLessNLPGRA\\80211IncludedFiles\\18__11-18-0802-01-00ba-papr-investigation-on-fdma-transmission.pptx\n",
      "960\n",
      "F:\\WireLessNLPGRA\\80211IncludedFiles\\18__11-18-0637-04-0ngv-ngv-sg-may-2018-meeting-agenda.ppt\n",
      "F:\\WireLessNLPGRA\\80211IncludedFiles\\18__11-18-0822-02-00ba-wur-fdma-channel-access.pptx\n",
      "F:\\WireLessNLPGRA\\80211IncludedFiles\\18__11-18-0881-02-00ba-omni-directional-multi-antenna-tx-through-ofdm-symbol-diversity.pptx\n",
      "F:\\WireLessNLPGRA\\80211IncludedFiles\\18__11-18-0605-05-0jtc-agenda-for-may-2018-in-warsaw.pptx\n",
      "F:\\WireLessNLPGRA\\80211IncludedFiles\\18__11-18-0437-03-00ba-bss-parameters-update-notification-follow-up.pptx\n",
      "F:\\WireLessNLPGRA\\80211IncludedFiles\\18__11-18-0881-01-00ba-omni-directional-multi-antenna-tx-through-ofdm-symbol-diversity.pptx\n",
      "F:\\WireLessNLPGRA\\80211IncludedFiles\\18__11-18-0596-03-00az-tgaz-may-meeting-agenda.pptx\n",
      "F:\\WireLessNLPGRA\\80211IncludedFiles\\18__11-18-0759-02-00fd-fd-tig-may-2018-agenda.ppt\n",
      "F:\\WireLessNLPGRA\\80211IncludedFiles\\18__11-18-0647-05-00ba-may-2018-tgba-agenda.pptx\n",
      "F:\\WireLessNLPGRA\\80211IncludedFiles\\18__11-18-0605-04-0jtc-agenda-for-may-2018-in-warsaw.pptx\n",
      "970\n",
      "F:\\WireLessNLPGRA\\80211IncludedFiles\\18__11-18-0637-03-0ngv-ngv-sg-may-2018-meeting-agenda.ppt\n",
      "F:\\WireLessNLPGRA\\80211IncludedFiles\\18__11-18-0940-00-00lc-internal-automotive-use-cases.ppt\n",
      "F:\\WireLessNLPGRA\\80211IncludedFiles\\18__11-18-0939-00-00az-clock-attack-threat-model-for-11az.pptx\n",
      "F:\\WireLessNLPGRA\\80211IncludedFiles\\18__11-18-0938-00-00fd-psss-cdd-full-duplex-phy.pptx\n",
      "F:\\WireLessNLPGRA\\80211IncludedFiles\\18__11-18-0893-01-00az-bss-color-in-ndp-ranging.pptx\n",
      "F:\\WireLessNLPGRA\\80211IncludedFiles\\18__11-18-0933-00-0ngv-high-level-requirements-of-ngv.pptx\n",
      "F:\\WireLessNLPGRA\\80211IncludedFiles\\18__11-18-0887-02-00ay-tdd-coexistence.pptx\n",
      "F:\\WireLessNLPGRA\\80211IncludedFiles\\18__11-18-0931-00-00lc-lc-outdoor-usage-models.pptx\n",
      "F:\\WireLessNLPGRA\\80211IncludedFiles\\18__11-18-0887-01-00ay-tdd-coexistence.pptx\n",
      "F:\\WireLessNLPGRA\\80211IncludedFiles\\18__11-18-0596-02-00az-tgaz-may-meeting-agenda.pptx\n",
      "980\n",
      "F:\\WireLessNLPGRA\\80211IncludedFiles\\18__11-18-0645-05-00ay-tg-ay-may-2018-meeting-agenda.ppt\n",
      "F:\\WireLessNLPGRA\\80211IncludedFiles\\18__11-18-0818-03-0wng-16-spatial-stream-support-in-next-generation-wlan.pptx\n",
      "F:\\WireLessNLPGRA\\80211IncludedFiles\\18__11-18-0928-00-00az-hez-ranging-sequence-for-passive-location-support.pptx\n",
      "F:\\WireLessNLPGRA\\80211IncludedFiles\\18__11-18-0927-00-00az-hez-rtt-location-using-anchor-stations-and-client-cooperation.pptx\n",
      "F:\\WireLessNLPGRA\\80211IncludedFiles\\18__11-18-0816-01-00ay-discovery-assistance-for-802-11ay.pptx\n",
      "F:\\WireLessNLPGRA\\80211IncludedFiles\\18__11-18-0855-01-00az-availability-window-advertisement.pptx\n",
      "F:\\WireLessNLPGRA\\80211IncludedFiles\\18__11-18-0642-02-0wng-agenda-for-wng-2018-may.ppt\n",
      "F:\\WireLessNLPGRA\\80211IncludedFiles\\18__11-18-0645-04-00ay-tg-ay-may-2018-meeting-agenda.ppt\n",
      "F:\\WireLessNLPGRA\\80211IncludedFiles\\18__11-18-0914-01-00ax-tgax-may-2018-mac-ad-hoc-meeting-agenda.pptx\n",
      "F:\\WireLessNLPGRA\\80211IncludedFiles\\18__11-18-0924-00-0ngv-time-variant-non-stationary-v2v-channel-model.pptx\n",
      "990\n",
      "F:\\WireLessNLPGRA\\80211IncludedFiles\\18__11-18-0912-01-00ax-802-11ax-spatial-reuse-ad-hoc-group-agenda.pptx\n",
      "F:\\WireLessNLPGRA\\80211IncludedFiles\\18__11-18-0923-00-0ngv-the-c-roads-platform.pptx\n",
      "F:\\WireLessNLPGRA\\80211IncludedFiles\\18__11-18-0818-02-0wng-16-spatial-stream-support-in-next-generation-wlan.pptx\n",
      "F:\\WireLessNLPGRA\\80211IncludedFiles\\18__11-18-0849-02-00ay-mu-exclusive-beamforming-report-field.pptx\n",
      "F:\\WireLessNLPGRA\\80211IncludedFiles\\18__11-18-0645-03-00ay-tg-ay-may-2018-meeting-agenda.ppt\n",
      "F:\\WireLessNLPGRA\\80211IncludedFiles\\18__11-18-0919-01-0ngv-the-c2c-communiction-consortium.pptx\n"
     ]
    },
    {
     "ename": "COMError",
     "evalue": "(-2147467259, '未指定的错误', ('Presentation (unknown member) : PowerPoint 储存此文件时发生错误。', 'Microsoft PowerPoint 2013  ', '', 0, None))",
     "output_type": "error",
     "traceback": [
      "\u001b[1;31m---------------------------------------------------------------------------\u001b[0m",
      "\u001b[1;31mCOMError\u001b[0m                                  Traceback (most recent call last)",
      "\u001b[1;32m<ipython-input-8-f1e4452e22d1>\u001b[0m in \u001b[0;36m<module>\u001b[1;34m()\u001b[0m\n\u001b[0;32m      2\u001b[0m \u001b[0minputDir\u001b[0m \u001b[1;33m=\u001b[0m \u001b[1;34m\"F:\\\\WireLessNLPGRA\\\\gitFiles\\\\Wifi-WiMax-Doc-Analysis\\\\Spider_Kay\\80211mentor\"\u001b[0m\u001b[1;33m\u001b[0m\u001b[0m\n\u001b[0;32m      3\u001b[0m \u001b[0moutputDir\u001b[0m \u001b[1;33m=\u001b[0m \u001b[1;34m\"F:\\\\WireLessNLPGRA\\\\80211IncludedFiles\"\u001b[0m\u001b[1;33m\u001b[0m\u001b[0m\n\u001b[1;32m----> 4\u001b[1;33m \u001b[0mconvert_files_in_folder\u001b[0m\u001b[1;33m(\u001b[0m\u001b[0mpowerpoint\u001b[0m\u001b[1;33m,\u001b[0m \u001b[0minputDir\u001b[0m\u001b[1;33m,\u001b[0m \u001b[0mfileNames\u001b[0m\u001b[1;33m,\u001b[0m \u001b[0moutputDir\u001b[0m\u001b[1;33m,\u001b[0m \u001b[1;36m940\u001b[0m\u001b[1;33m)\u001b[0m\u001b[1;33m\u001b[0m\u001b[0m\n\u001b[0m\u001b[0;32m      5\u001b[0m \u001b[0mpowerpoint\u001b[0m\u001b[1;33m.\u001b[0m\u001b[0mQuit\u001b[0m\u001b[1;33m(\u001b[0m\u001b[1;33m)\u001b[0m\u001b[1;33m\u001b[0m\u001b[0m\n",
      "\u001b[1;32m<ipython-input-3-0acd3694e434>\u001b[0m in \u001b[0;36mconvert_files_in_folder\u001b[1;34m(powerpoint, inputDir, files, outputDi, start)\u001b[0m\n\u001b[0;32m     21\u001b[0m         \u001b[0mfullpath\u001b[0m \u001b[1;33m=\u001b[0m \u001b[0mos\u001b[0m\u001b[1;33m.\u001b[0m\u001b[0mpath\u001b[0m\u001b[1;33m.\u001b[0m\u001b[0mjoin\u001b[0m\u001b[1;33m(\u001b[0m\u001b[0minputDir\u001b[0m\u001b[1;33m,\u001b[0m \u001b[0mpptfile\u001b[0m\u001b[1;33m)\u001b[0m\u001b[1;33m\u001b[0m\u001b[0m\n\u001b[0;32m     22\u001b[0m         \u001b[0moutputPath\u001b[0m \u001b[1;33m=\u001b[0m \u001b[0mos\u001b[0m\u001b[1;33m.\u001b[0m\u001b[0mpath\u001b[0m\u001b[1;33m.\u001b[0m\u001b[0mjoin\u001b[0m\u001b[1;33m(\u001b[0m\u001b[0moutputDir\u001b[0m\u001b[1;33m,\u001b[0m \u001b[0mpptfile\u001b[0m\u001b[1;33m)\u001b[0m\u001b[1;33m\u001b[0m\u001b[0m\n\u001b[1;32m---> 23\u001b[1;33m         \u001b[0mppt_to_pdf\u001b[0m\u001b[1;33m(\u001b[0m\u001b[0mpowerpoint\u001b[0m\u001b[1;33m,\u001b[0m \u001b[0mfullpath\u001b[0m\u001b[1;33m,\u001b[0m \u001b[0moutputPath\u001b[0m\u001b[1;33m)\u001b[0m\u001b[1;33m\u001b[0m\u001b[0m\n\u001b[0m\u001b[0;32m     24\u001b[0m         \u001b[1;32mif\u001b[0m \u001b[1;33m(\u001b[0m\u001b[0mcount\u001b[0m \u001b[1;33m%\u001b[0m \u001b[1;36m10\u001b[0m \u001b[1;33m==\u001b[0m \u001b[1;36m0\u001b[0m\u001b[1;33m)\u001b[0m\u001b[1;33m:\u001b[0m\u001b[1;33m\u001b[0m\u001b[0m\n\u001b[0;32m     25\u001b[0m             \u001b[0mprint\u001b[0m\u001b[1;33m(\u001b[0m\u001b[0mcount\u001b[0m\u001b[1;33m)\u001b[0m\u001b[1;33m\u001b[0m\u001b[0m\n",
      "\u001b[1;32m<ipython-input-3-0acd3694e434>\u001b[0m in \u001b[0;36mppt_to_pdf\u001b[1;34m(powerpoint, inputFileName, outputFileName, formatType)\u001b[0m\n\u001b[0;32m     13\u001b[0m     \u001b[0moutputFileName\u001b[0m \u001b[1;33m=\u001b[0m \u001b[0moutputFileName\u001b[0m \u001b[1;33m+\u001b[0m \u001b[1;34m\".pdf\"\u001b[0m\u001b[1;33m\u001b[0m\u001b[0m\n\u001b[0;32m     14\u001b[0m     \u001b[0mdeck\u001b[0m \u001b[1;33m=\u001b[0m \u001b[0mpowerpoint\u001b[0m\u001b[1;33m.\u001b[0m\u001b[0mPresentations\u001b[0m\u001b[1;33m.\u001b[0m\u001b[0mOpen\u001b[0m\u001b[1;33m(\u001b[0m\u001b[0minputFileName\u001b[0m\u001b[1;33m)\u001b[0m\u001b[1;33m\u001b[0m\u001b[0m\n\u001b[1;32m---> 15\u001b[1;33m     \u001b[0mdeck\u001b[0m\u001b[1;33m.\u001b[0m\u001b[0mSaveAs\u001b[0m\u001b[1;33m(\u001b[0m\u001b[0moutputFileName\u001b[0m\u001b[1;33m,\u001b[0m \u001b[0mformatType\u001b[0m\u001b[1;33m)\u001b[0m\u001b[1;31m# formatType = 32 for ppt to pdf\u001b[0m\u001b[1;33m\u001b[0m\u001b[0m\n\u001b[0m\u001b[0;32m     16\u001b[0m     \u001b[0mdeck\u001b[0m\u001b[1;33m.\u001b[0m\u001b[0mClose\u001b[0m\u001b[1;33m(\u001b[0m\u001b[1;33m)\u001b[0m\u001b[1;33m\u001b[0m\u001b[0m\n\u001b[0;32m     17\u001b[0m \u001b[1;32mdef\u001b[0m \u001b[0mconvert_files_in_folder\u001b[0m\u001b[1;33m(\u001b[0m\u001b[0mpowerpoint\u001b[0m\u001b[1;33m,\u001b[0m \u001b[0minputDir\u001b[0m\u001b[1;33m,\u001b[0m \u001b[0mfiles\u001b[0m\u001b[1;33m,\u001b[0m \u001b[0moutputDi\u001b[0m\u001b[1;33m,\u001b[0m \u001b[0mstart\u001b[0m\u001b[1;33m)\u001b[0m\u001b[1;33m:\u001b[0m\u001b[1;33m\u001b[0m\u001b[0m\n",
      "\u001b[1;31mCOMError\u001b[0m: (-2147467259, '未指定的错误', ('Presentation (unknown member) : PowerPoint 储存此文件时发生错误。', 'Microsoft PowerPoint 2013  ', '', 0, None))"
     ]
    }
   ],
   "source": [
    "powerpoint = init_powerpoint()\n",
    "inputDir = \"F:\\\\WireLessNLPGRA\\\\gitFiles\\\\Wifi-WiMax-Doc-Analysis\\\\Spider_Kay\\80211mentor\"\n",
    "outputDir = \"F:\\\\WireLessNLPGRA\\\\80211IncludedFiles\"\n",
    "convert_files_in_folder(powerpoint, inputDir, fileNames, outputDir, 940)\n",
    "powerpoint.Quit()"
   ]
  },
  {
   "cell_type": "code",
   "execution_count": 13,
   "metadata": {},
   "outputs": [
    {
     "data": {
      "text/plain": [
       "'18__11-18-1563-00-0000-press-release-for-extremely-high-throughput-sg-and-real-time-applications-tig.docx'"
      ]
     },
     "execution_count": 13,
     "metadata": {},
     "output_type": "execute_result"
    }
   ],
   "source": [
    "fileNames[0]"
   ]
  },
  {
   "cell_type": "code",
   "execution_count": 38,
   "metadata": {},
   "outputs": [],
   "source": [
    "a = [1,2,3]"
   ]
  },
  {
   "cell_type": "code",
   "execution_count": 39,
   "metadata": {},
   "outputs": [
    {
     "data": {
      "text/plain": [
       "[2, 3]"
      ]
     },
     "execution_count": 39,
     "metadata": {},
     "output_type": "execute_result"
    }
   ],
   "source": [
    "a[1:]"
   ]
  },
  {
   "cell_type": "code",
   "execution_count": null,
   "metadata": {},
   "outputs": [],
   "source": []
  }
 ],
 "metadata": {
  "kernelspec": {
   "display_name": "Python 3",
   "language": "python",
   "name": "python3"
  },
  "language_info": {
   "codemirror_mode": {
    "name": "ipython",
    "version": 3
   },
   "file_extension": ".py",
   "mimetype": "text/x-python",
   "name": "python",
   "nbconvert_exporter": "python",
   "pygments_lexer": "ipython3",
   "version": "3.6.5"
  }
 },
 "nbformat": 4,
 "nbformat_minor": 2
}
