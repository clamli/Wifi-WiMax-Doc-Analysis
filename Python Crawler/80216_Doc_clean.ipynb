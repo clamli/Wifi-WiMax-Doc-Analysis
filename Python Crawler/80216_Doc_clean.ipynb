{
 "cells": [
  {
   "cell_type": "code",
   "execution_count": 27,
   "metadata": {},
   "outputs": [],
   "source": [
    "from xlrd import open_workbook\n",
    "import requests\n",
    "import xlwt"
   ]
  },
  {
   "cell_type": "code",
   "execution_count": 23,
   "metadata": {},
   "outputs": [
    {
     "name": "stdout",
     "output_type": "stream",
     "text": [
      "100.00%\r"
     ]
    }
   ],
   "source": [
    "results = getInfo(\"802_16_Documents.xls\")\n",
    "output = []\n",
    "files = set()\n",
    "total = len(results)\n",
    "for idx, result in zip(range(total), results):\n",
    "    print(\"%.2f%%\"%((idx+1)*100/total), end='\\r')\n",
    "    url = result[4]\n",
    "    filename = url[url.rfind('/')+1:]\n",
    "    if filename in files:\n",
    "        continue\n",
    "    files.add(filename)\n",
    "    getFileFromUrl(\"clean data/80216Doc/\", url, filename)\n",
    "    result.append(filename)\n",
    "    output.append(result)"
   ]
  },
  {
   "cell_type": "code",
   "execution_count": 21,
   "metadata": {},
   "outputs": [],
   "source": [
    "def getInfo(filename):\n",
    "    book = open_workbook(filename, on_demand=True)\n",
    "    book.sheet_names()\n",
    "    results = []\n",
    "    for name in book.sheet_names():\n",
    "        sheet = book.sheet_by_name(name)\n",
    "        for row in range(1, sheet.nrows):\n",
    "            result = []\n",
    "            for cell in sheet.row(row):\n",
    "                result.append(cell.value)\n",
    "            results.append(result)\n",
    "    return results"
   ]
  },
  {
   "cell_type": "code",
   "execution_count": 22,
   "metadata": {},
   "outputs": [],
   "source": [
    "def getFileFromUrl(path, url, filename):\n",
    "    response = requests.get(url, allow_redirects=True)\n",
    "    with open(path + filename, 'wb') as file:\n",
    "        file.write(response.content)"
   ]
  },
  {
   "cell_type": "code",
   "execution_count": 28,
   "metadata": {},
   "outputs": [],
   "source": [
    "filename = \"./clean data/802_16_Documents.xls\"\n",
    "book = xlwt.Workbook(encoding=\"utf-8\")\n",
    "sheet1 = book.add_sheet(\"Sheet 1\")\n",
    "sheet1.write(0, 0, \"Official/Contribution\")\n",
    "sheet1.write(0, 1, \"Time\")\n",
    "sheet1.write(0, 2, \"Title\")\n",
    "sheet1.write(0, 3, \"Author\")\n",
    "sheet1.write(0, 4, \"File Link\")\n",
    "sheet1.write(0, 5, \"Additional Information\")\n",
    "sheet1.write(0, 6, \"Filename\")"
   ]
  },
  {
   "cell_type": "code",
   "execution_count": 29,
   "metadata": {},
   "outputs": [],
   "source": [
    "for idx1, line in zip(range(1, len(output)+1), output):\n",
    "    for idx2, val in zip(range(0, len(line)), line):\n",
    "        sheet1.write(idx1, idx2, val)"
   ]
  },
  {
   "cell_type": "code",
   "execution_count": 30,
   "metadata": {},
   "outputs": [],
   "source": [
    "book.save(filename)"
   ]
  },
  {
   "cell_type": "code",
   "execution_count": null,
   "metadata": {},
   "outputs": [],
   "source": []
  }
 ],
 "metadata": {
  "kernelspec": {
   "display_name": "Python 3",
   "language": "python",
   "name": "python3"
  },
  "language_info": {
   "codemirror_mode": {
    "name": "ipython",
    "version": 3
   },
   "file_extension": ".py",
   "mimetype": "text/x-python",
   "name": "python",
   "nbconvert_exporter": "python",
   "pygments_lexer": "ipython3",
   "version": "3.7.0"
  }
 },
 "nbformat": 4,
 "nbformat_minor": 2
}
