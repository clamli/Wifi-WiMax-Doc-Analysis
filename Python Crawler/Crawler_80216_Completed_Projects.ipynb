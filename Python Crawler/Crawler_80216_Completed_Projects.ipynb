{
 "cells": [
  {
   "cell_type": "markdown",
   "metadata": {},
   "source": [
    "# IEEE 802.16 Completed Projects"
   ]
  },
  {
   "cell_type": "code",
   "execution_count": 161,
   "metadata": {},
   "outputs": [],
   "source": [
    "import mechanicalsoup\n",
    "import bs4\n",
    "from bs4 import BeautifulSoup\n",
    "import re\n",
    "import string\n",
    "import xlwt"
   ]
  },
  {
   "cell_type": "code",
   "execution_count": 18,
   "metadata": {},
   "outputs": [
    {
     "data": {
      "text/plain": [
       "<Response [200]>"
      ]
     },
     "execution_count": 18,
     "metadata": {},
     "output_type": "execute_result"
    }
   ],
   "source": [
    "# Connect to IEEE 802.16 Completed Projects\n",
    "browser = mechanicalsoup.StatefulBrowser()\n",
    "root1 = \"http://www.ieee802.org/16/\"\n",
    "url = \"http://www.ieee802.org/16/tgs.html\"\n",
    "browser.open(url)"
   ]
  },
  {
   "cell_type": "markdown",
   "metadata": {},
   "source": [
    "### Crawler web link down"
   ]
  },
  {
   "cell_type": "code",
   "execution_count": 4,
   "metadata": {},
   "outputs": [],
   "source": [
    "# Get html content\n",
    "html = browser.get_current_page()"
   ]
  },
  {
   "cell_type": "code",
   "execution_count": 42,
   "metadata": {},
   "outputs": [],
   "source": [
    "blocks = html.find_all('ul')[1:5]\n",
    "## feature1 && feature2\n",
    "key = ['Air Interface', 'Bridging', 'Conformance', 'Coexistence']\n",
    "fea12Dic = {'Air Interface': \n",
    "                {\n",
    "                    'link': [], 'feature2': []\n",
    "                }, \n",
    "            'Bridging': \n",
    "                {\n",
    "                    'link': [], 'feature2': []\n",
    "                }, \n",
    "            'Conformance': \n",
    "                {\n",
    "                    'link': [], 'feature2': []\n",
    "                }, \n",
    "            'Coexistence': \n",
    "                {\n",
    "                    'link': [], 'feature2': []\n",
    "                }\n",
    "           }\n",
    "for idx1, block in zip(range(len(blocks)), blocks):\n",
    "    lis = block.find_all('li')\n",
    "    for idx2, li in zip(range(len(lis)), lis):\n",
    "        a = li.a\n",
    "        link = root1 + a['href']\n",
    "        fea12Dic[key[idx1]]['link'].append(link)\n",
    "        if idx1 == len(blocks)-1 and idx2 == 0:\n",
    "            feature2 = li.contents[-3].strip().strip(string.punctuation)\n",
    "        else:\n",
    "            feature2 = li.contents[-1].strip().strip(string.punctuation)\n",
    "        fea12Dic[key[idx1]]['feature2'].append(feature2)"
   ]
  },
  {
   "cell_type": "code",
   "execution_count": 333,
   "metadata": {},
   "outputs": [
    {
     "data": {
      "text/plain": [
       "{'Air Interface': {'link': ['http://www.ieee802.org/16/tg1/index.html',\n",
       "   'http://www.ieee802.org/16/tga/index.html',\n",
       "   'http://www.ieee802.org/16/tgc/index.html',\n",
       "   'http://www.ieee802.org/16/tgd/index.html',\n",
       "   'http://www.ieee802.org/16/netman/16f.html',\n",
       "   'http://www.ieee802.org/16/maint/index.html',\n",
       "   'http://www.ieee802.org/16/tge/index.html',\n",
       "   'http://www.ieee802.org/16/netman/16g.html',\n",
       "   'http://www.ieee802.org/16/maint/index.html',\n",
       "   'http://www.ieee802.org/16/relay/index.html',\n",
       "   'http://www.ieee802.org/16/le/index.html',\n",
       "   'http://www.ieee802.org/16/tgm/index.html',\n",
       "   'http://www.ieee802.org/16/maint/index.html',\n",
       "   'http://www.ieee802.org/16/maint/index.html',\n",
       "   'http://www.ieee802.org/16/m2m/index.html',\n",
       "   'http://www.ieee802.org/16/m2m/index.html',\n",
       "   'http://www.ieee802.org/16/gridman/index.html',\n",
       "   'http://www.ieee802.org/16/gridman/index.html',\n",
       "   'http://www.ieee802.org/16/16q/index.html',\n",
       "   'http://www.ieee802.org/16/gridman/index.html',\n",
       "   'http://www.ieee802.org/16/maint/index.html'],\n",
       "  'feature2': ['Air Interface for 10-66 GHz',\n",
       "   'Amendment including 2-11 GHz',\n",
       "   'Amendment including 10-66 GHz Profiles',\n",
       "   ' Revision, incorporating and obsoleting IEEE Standard 802.16-2001 and its two amendments',\n",
       "   ' Amendment on Management Information Base for Fixed Systems',\n",
       "   ' Corrigendum to IEEE Std 802.16-2004',\n",
       "   ' Amendment on enhancements to support mobililty',\n",
       "   ' Amendment on Mobile Management Information Base',\n",
       "   ' Revision',\n",
       "   ' Amendment on Mobile Multihop Relay',\n",
       "   ' Amendment on Improved Coexistence Mechanisms for License-Exempt Operation',\n",
       "   ' Amendment to IEEE Std 802.16 for Advanced Air Interface',\n",
       "   ' Revision',\n",
       "   ' New Standard',\n",
       "   ' Amendment to IEEE Std 802.16 for Enhancements to Support Machine-to-Machine Applications',\n",
       "   ' Amendment to IEEE Std 802.16.1 for Enhancements to Support Machine-to-Machine Applications',\n",
       "   ' Amendment to IEEE Std 802.16 for Higher Reliability Networks',\n",
       "   ' Amendment to IEEE Std 802.16.1 for Higher Reliability Networks',\n",
       "   ' Amendment to IEEE Std 802.16 for Multi-Tier Networks',\n",
       "   ' Amendment to IEEE Std 802.16 for Channel Bandwidth up to 1.25 MHz',\n",
       "   ' Revision, incorporating 802.16p, 802.16n, 802.16q, and 802.16s']},\n",
       " 'Bridging': {'link': ['http://www.ieee802.org/16/netman/16k.html'],\n",
       "  'feature2': ['Amendment to IEEE Std 802.1D on 802.16 Bridging']},\n",
       " 'Conformance': {'link': ['http://www.ieee802.org/16/tgc/C1/index.html',\n",
       "   'http://www.ieee802.org/16/tgc/C2/index.html',\n",
       "   'http://www.ieee802.org/16/tgc/C3/index.html',\n",
       "   'http://www.ieee802.org/16/tgc/C4/index.html'],\n",
       "  'feature2': ['10-66 GHz PICS',\n",
       "   '10-66 GHz TSS&TP',\n",
       "   '10-66 GHz Radio Conformance Tests',\n",
       "   '11 GHz PICS']},\n",
       " 'Coexistence': {'link': ['http://www.ieee802.org/16/tg2_orig/index.html',\n",
       "   'http://www.ieee802.org/16/tg2/index.html'],\n",
       "  'feature2': ['Coexistence for 10-66 GHz',\n",
       "   'Revision, including expansion to 2-66 GHz']}}"
      ]
     },
     "execution_count": 333,
     "metadata": {},
     "output_type": "execute_result"
    }
   ],
   "source": [
    "fea12Dic"
   ]
  },
  {
   "cell_type": "markdown",
   "metadata": {},
   "source": [
    "### Crawler each link"
   ]
  },
  {
   "cell_type": "code",
   "execution_count": 361,
   "metadata": {
    "scrolled": true
   },
   "outputs": [
    {
     "name": "stdout",
     "output_type": "stream",
     "text": [
      "4/4\r"
     ]
    }
   ],
   "source": [
    "res = []\n",
    "total = len(fea12Dic)\n",
    "for idx, feature1 in zip(range(total), fea12Dic.keys()):\n",
    "    print(\"%d/%d\"%(idx+1, total), end=\"\\r\")\n",
    "    for url, feature2 in zip(fea12Dic[feature1]['link'], fea12Dic[feature1]['feature2']):\n",
    "        browser.open(url)\n",
    "        html = browser.get_current_page()\n",
    "        prefix = url[0:url.rfind('/')+1]\n",
    "        # each page\n",
    "        for tag in html.find_all('b', href=False):    \n",
    "            tagtext = tag.text\n",
    "            if \"Contributed\" in tagtext or \"Contributions\" in tagtext:\n",
    "                for ul in tag.find_next_siblings('ul', class_=False):\n",
    "                    # Session Info\n",
    "                    if ul.b is not None:\n",
    "                        sessionInfo = ul.b.text\n",
    "                    elif ul.strong is not None:\n",
    "                        sessionInfo = ul.strong.text\n",
    "                    else:\n",
    "                        sessionInfo = None\n",
    "                    for li in ul.find_all('li', class_=False):\n",
    "                        if li.a is not None:\n",
    "                            [time, title, author, fileLink, addiInfo] = parse(li, prefix)\n",
    "                            res.append([feature1, feature2, tagtext, sessionInfo, title, author, time, fileLink, addiInfo])\n",
    "            elif \"Official\" in tagtext or tagtext == \"Documents\" or \"Task\" in tagtext:\n",
    "                # Session Info\n",
    "                sessionInfo = None\n",
    "                if type(tag.parent.find_next_sibling('ul')) is not bs4.element.NavigableString and tag.parent.find_next_sibling('ul') is not None:\n",
    "                    tmp = tag.parent\n",
    "                else:\n",
    "                    tmp = tag\n",
    "                for li in tmp.find_all('li'):\n",
    "                    if li.a is not None:\n",
    "                        [time, title, author, fileLink, addiInfo] = parse(li, prefix)\n",
    "                        res.append([feature1, feature2, tagtext, sessionInfo, title, author, time, fileLink, addiInfo])\n",
    "        for tag in html.find_all('strong', href=False):\n",
    "            tagtext = tag.text\n",
    "            if \"Contributed\" in tagtext or \"Contributions\" in tagtext:\n",
    "                for ul in tag.parent.find_next_siblings('ul', class_=False):\n",
    "                    # Session Info\n",
    "                    if ul.b is not None:\n",
    "                        sessionInfo = ul.b.text\n",
    "                    elif ul.strong is not None:\n",
    "                        sessionInfo = ul.strong.text\n",
    "                    else:\n",
    "                        sessionInfo = None\n",
    "                    for li in ul.find_all('li', class_=False):\n",
    "                        if li.a is not None:\n",
    "                            [time, title, author, fileLink, addiInfo] = parse(li, prefix)\n",
    "                            res.append([feature1, feature2, tagtext, sessionInfo, title, author, time, fileLink, addiInfo])\n",
    "            elif \"Official\" in tagtext or tagtext == \"Documents\" or \"Task\" in tagtext:\n",
    "                # Session Info\n",
    "                sessionInfo = None\n",
    "                if type(tag.parent.find_next_sibling('ul')) is not bs4.element.NavigableString and tag.parent.find_next_sibling('ul') is not None:\n",
    "                    tmp = tag.parent\n",
    "                else:\n",
    "                    tmp = tag\n",
    "                for li in tmp.find_all('li'):\n",
    "                    if li.a is not None:\n",
    "                        [time, title, author, fileLink, addiInfo] = parse(li, prefix)\n",
    "                        res.append([feature1, feature2, tagtext, sessionInfo, title, author, time, fileLink, addiInfo])"
   ]
  },
  {
   "cell_type": "code",
   "execution_count": 365,
   "metadata": {},
   "outputs": [
    {
     "data": {
      "text/plain": [
       "17282"
      ]
     },
     "execution_count": 365,
     "metadata": {},
     "output_type": "execute_result"
    }
   ],
   "source": [
    "len(res)"
   ]
  },
  {
   "cell_type": "markdown",
   "metadata": {},
   "source": [
    "### Util Functions"
   ]
  },
  {
   "cell_type": "code",
   "execution_count": 360,
   "metadata": {},
   "outputs": [],
   "source": [
    "def parse(li, prefix):\n",
    "    conts = li.contents\n",
    "    tmpstr = conts[-1]\n",
    "    if tmpstr.find('(') == None or tmpstr.find(')') == None:\n",
    "        authAndTimeCtx = \"\"\n",
    "    else:\n",
    "        authAndTimeCtx = tmpstr[tmpstr.find('(')+1:tmpstr.find(')')]\n",
    "    # File link\n",
    "    links = li.find_all('a', href=True)\n",
    "    if links == []:\n",
    "        li.find_all('a', nhref=True)\n",
    "    if links == []:\n",
    "        fileLink = None\n",
    "    else:\n",
    "        fileLink = prefix + links[0]['href']\n",
    "    # title\n",
    "    title = \"\"\n",
    "    flag = False\n",
    "    for cont in conts:\n",
    "        if flag and cont.string is not None:\n",
    "            title += cont.string\n",
    "        elif cont.string is None:\n",
    "            flag = True\n",
    "    if title == \"\":\n",
    "        title = None\n",
    "    else:\n",
    "        title = title.strip()\n",
    "    # time\n",
    "    time = None\n",
    "    target = -1\n",
    "    for idx in range(len(conts)-1, -1, -1):\n",
    "        mat1 = re.search(r\"(\\d{4}-\\d{2}-\\d{2})\", str(conts[idx]))\n",
    "        if mat1 is not None:\n",
    "            time = mat1.group(0)\n",
    "            target = idx\n",
    "            break\n",
    "        else:\n",
    "            mat2 = re.search(r\"(\\d{2}/\\d{2}/\\d{2})\", str(li.text))\n",
    "            if mat2 is not None:\n",
    "                time = mat2.group(0)\n",
    "                time = time.replace(\"/\", \"-\");\n",
    "                year = int(time[0:2])\n",
    "                if year >= 80:\n",
    "                    time = \"19\" + time\n",
    "                else:\n",
    "                    time = \"20\" + time\n",
    "                target = idx\n",
    "                break\n",
    "    # author\n",
    "    if target == -1:\n",
    "        author = None\n",
    "    else:\n",
    "        tmpsplit = re.split('[;,]', str(conts[target]))\n",
    "        author = \"\"\n",
    "        for ele in tmpsplit:\n",
    "            mat1 = re.search(r\"(\\d{4}-\\d{2}-\\d{2})\", ele)\n",
    "            mat2 = re.search(r\"(\\d{2}/\\d{2}/\\d{2})\",ele)\n",
    "            if mat1 is None and mat2 is None:\n",
    "                author += ele + \";\"\n",
    "        if author is \"\":\n",
    "            author = None\n",
    "    # addiInfo\n",
    "    addiInfo = \"\"\n",
    "    for idx in range(1, target):\n",
    "        tmp = str(conts[idx])\n",
    "        if tmp != '<br/>':\n",
    "            addiInfo += tmp\n",
    "    if addiInfo is \"\":\n",
    "        addiInfo = None\n",
    "    return [time, title, author, fileLink, addiInfo]"
   ]
  },
  {
   "cell_type": "markdown",
   "metadata": {},
   "source": [
    "### Save list into excel file"
   ]
  },
  {
   "cell_type": "code",
   "execution_count": 367,
   "metadata": {},
   "outputs": [],
   "source": [
    "filename = \"\"\n",
    "book = xlwt.Workbook(encoding=\"utf-8\")\n",
    "sheet1 = book.add_sheet(\"Sheet 1\")\n",
    "sheet1.write(0, 0, \"Feature1\")\n",
    "sheet1.write(0, 1, \"Feature2\")\n",
    "sheet1.write(0, 2, \"Tag Text\")\n",
    "sheet1.write(0, 3, \"Session Info\")\n",
    "sheet1.write(0, 4, \"Title\")\n",
    "sheet1.write(0, 5, \"Author\")\n",
    "sheet1.write(0, 6, \"Time\")\n",
    "sheet1.write(0, 7, \"File Link\")\n",
    "sheet1.write(0, 8, \"Additional Infoamtion\")"
   ]
  },
  {
   "cell_type": "code",
   "execution_count": 368,
   "metadata": {},
   "outputs": [],
   "source": [
    "# [feature1, feature2, tagtext, sessionInfo, title, author, time, fileLink, addiInfo]\n",
    "for idx1, line in zip(range(1, len(res)+1), res):\n",
    "    for idx2, val in zip(range(0, len(line)), line):\n",
    "        sheet1.write(idx1, idx2, val)"
   ]
  },
  {
   "cell_type": "code",
   "execution_count": 369,
   "metadata": {},
   "outputs": [],
   "source": [
    "book.save(\"802_16_Completed_Projects.xls\")"
   ]
  },
  {
   "cell_type": "code",
   "execution_count": null,
   "metadata": {},
   "outputs": [],
   "source": []
  },
  {
   "cell_type": "code",
   "execution_count": null,
   "metadata": {},
   "outputs": [],
   "source": []
  },
  {
   "cell_type": "code",
   "execution_count": null,
   "metadata": {},
   "outputs": [],
   "source": []
  },
  {
   "cell_type": "code",
   "execution_count": null,
   "metadata": {},
   "outputs": [],
   "source": []
  },
  {
   "cell_type": "code",
   "execution_count": null,
   "metadata": {},
   "outputs": [],
   "source": []
  },
  {
   "cell_type": "code",
   "execution_count": null,
   "metadata": {},
   "outputs": [],
   "source": []
  },
  {
   "cell_type": "code",
   "execution_count": null,
   "metadata": {},
   "outputs": [],
   "source": []
  },
  {
   "cell_type": "code",
   "execution_count": null,
   "metadata": {},
   "outputs": [],
   "source": []
  },
  {
   "cell_type": "code",
   "execution_count": null,
   "metadata": {},
   "outputs": [],
   "source": [
    "str1 = \"<li><a href='contrib/802161c-01_39.pdf'>802.16.1c-01/39</a> (2001-09-13)<br/>Comment Resolution Details (<a href='mailto:carl.eklund@nokia.com.com'>Carl Eklund</a>)</li>\"\n",
    "str2 = \"<li><a href='11/80216-11_0041r3.zip' name='11_0041'>IEEE 802.16-11/0041r3</a> (<a href='11/80216-11_0041r2.zip'>IEEE 802.16-11/0041r2</a>: 2011-11-10; <a href='11/80216-11_0041r1.zip'>IEEE 802.16-11/0041r1</a>: 2011-11-08; <a href='11/80216-11_0041.zip'>IEEE 802.16-11/0041</a>: 2011-11-07)<br/> IEEE 802.16 WG Letter Ballot #34 Comments (99/11/16)</li>\"\n",
    "soup = BeautifulSoup(str1)\n",
    "parse(soup.li,\"\")"
   ]
  },
  {
   "cell_type": "code",
   "execution_count": null,
   "metadata": {},
   "outputs": [],
   "source": [
    "http://www.ieee802.org/16/docs/06/C80216-06_001.pdf"
   ]
  },
  {
   "cell_type": "code",
   "execution_count": null,
   "metadata": {},
   "outputs": [],
   "source": [
    "http://www.ieee802.org/16/tgs.html\n",
    "http://www.ieee802.org/16/tg1/index.html\n",
    "http://www.ieee802.org/16/tg1/docs/802161-01_08.pdf"
   ]
  },
  {
   "cell_type": "code",
   "execution_count": 282,
   "metadata": {},
   "outputs": [
    {
     "name": "stdout",
     "output_type": "stream",
     "text": [
      "2\n",
      "<li><a href=\"contrib/C1802161-02_01.pdf\">C1802.16.1-02/01</a><br/>Protocol Implementation Conformance Statement for IEEE Standard 802.16-2001 (<a href=\"mailto:ken@ensemble.com\">Ken Stanwood</a>, 02/09/17)<br/></li>\n",
      "[<a href=\"contrib/C1802161-02_01.pdf\">C1802.16.1-02/01</a>, <br/>, 'Protocol Implementation Conformance Statement for IEEE Standard 802.16-2001 (', <a href=\"mailto:ken@ensemble.com\">Ken Stanwood</a>, ', 02/09/17)', <br/>]\n",
      "<br/>\n"
     ]
    },
    {
     "ename": "AttributeError",
     "evalue": "'NoneType' object has no attribute 'strip'",
     "output_type": "error",
     "traceback": [
      "\u001b[1;31m---------------------------------------------------------------------------\u001b[0m",
      "\u001b[1;31mAttributeError\u001b[0m                            Traceback (most recent call last)",
      "\u001b[1;32m<ipython-input-282-716df77f8fe0>\u001b[0m in \u001b[0;36m<module>\u001b[1;34m()\u001b[0m\n\u001b[0;32m     19\u001b[0m             \u001b[1;32mfor\u001b[0m \u001b[0mli\u001b[0m \u001b[1;32min\u001b[0m \u001b[0mul\u001b[0m\u001b[1;33m.\u001b[0m\u001b[0mfind_all\u001b[0m\u001b[1;33m(\u001b[0m\u001b[1;34m'li'\u001b[0m\u001b[1;33m,\u001b[0m \u001b[0mclass_\u001b[0m\u001b[1;33m=\u001b[0m\u001b[1;32mFalse\u001b[0m\u001b[1;33m)\u001b[0m\u001b[1;33m:\u001b[0m\u001b[1;33m\u001b[0m\u001b[0m\n\u001b[0;32m     20\u001b[0m                 \u001b[1;32mif\u001b[0m \u001b[0mli\u001b[0m\u001b[1;33m.\u001b[0m\u001b[0ma\u001b[0m \u001b[1;32mis\u001b[0m \u001b[1;32mnot\u001b[0m \u001b[1;32mNone\u001b[0m\u001b[1;33m:\u001b[0m\u001b[1;33m\u001b[0m\u001b[0m\n\u001b[1;32m---> 21\u001b[1;33m                     \u001b[1;33m[\u001b[0m\u001b[0mtime\u001b[0m\u001b[1;33m,\u001b[0m \u001b[0mtitle\u001b[0m\u001b[1;33m,\u001b[0m \u001b[0mauthor\u001b[0m\u001b[1;33m,\u001b[0m \u001b[0mfileLink\u001b[0m\u001b[1;33m,\u001b[0m \u001b[0maddiInfo\u001b[0m\u001b[1;33m]\u001b[0m \u001b[1;33m=\u001b[0m \u001b[0mparse\u001b[0m\u001b[1;33m(\u001b[0m\u001b[0mli\u001b[0m\u001b[1;33m,\u001b[0m \u001b[0mprefix\u001b[0m\u001b[1;33m)\u001b[0m\u001b[1;33m\u001b[0m\u001b[0m\n\u001b[0m\u001b[0;32m     22\u001b[0m                     \u001b[0mres\u001b[0m\u001b[1;33m.\u001b[0m\u001b[0mappend\u001b[0m\u001b[1;33m(\u001b[0m\u001b[1;33m[\u001b[0m\u001b[0mfeature1\u001b[0m\u001b[1;33m,\u001b[0m \u001b[0mfeature2\u001b[0m\u001b[1;33m,\u001b[0m \u001b[0mtagtext\u001b[0m\u001b[1;33m,\u001b[0m \u001b[0msessionInfo\u001b[0m\u001b[1;33m,\u001b[0m \u001b[0mtitle\u001b[0m\u001b[1;33m,\u001b[0m \u001b[0mauthor\u001b[0m\u001b[1;33m,\u001b[0m \u001b[0mtime\u001b[0m\u001b[1;33m,\u001b[0m \u001b[0mfileLink\u001b[0m\u001b[1;33m,\u001b[0m \u001b[0maddiInfo\u001b[0m\u001b[1;33m]\u001b[0m\u001b[1;33m)\u001b[0m\u001b[1;33m\u001b[0m\u001b[0m\n\u001b[0;32m     23\u001b[0m     \u001b[1;32melif\u001b[0m \u001b[1;34m\"Official\"\u001b[0m \u001b[1;32min\u001b[0m \u001b[0mtagtext\u001b[0m \u001b[1;32mor\u001b[0m \u001b[0mtagtext\u001b[0m \u001b[1;33m==\u001b[0m \u001b[1;34m\"Documents\"\u001b[0m \u001b[1;32mor\u001b[0m \u001b[1;34m\"Task\"\u001b[0m \u001b[1;32min\u001b[0m \u001b[0mtagtext\u001b[0m\u001b[1;33m:\u001b[0m\u001b[1;33m\u001b[0m\u001b[0m\n",
      "\u001b[1;32m<ipython-input-281-bbbee4455eb0>\u001b[0m in \u001b[0;36mparse\u001b[1;34m(li, prefix)\u001b[0m\n\u001b[0;32m     18\u001b[0m         \u001b[0mfileLink\u001b[0m \u001b[1;33m=\u001b[0m \u001b[0mlinks\u001b[0m\u001b[1;33m[\u001b[0m\u001b[1;36m0\u001b[0m\u001b[1;33m]\u001b[0m\u001b[1;33m[\u001b[0m\u001b[1;34m'href'\u001b[0m\u001b[1;33m]\u001b[0m\u001b[1;33m\u001b[0m\u001b[0m\n\u001b[0;32m     19\u001b[0m     \u001b[1;31m# title\u001b[0m\u001b[1;33m\u001b[0m\u001b[1;33m\u001b[0m\u001b[0m\n\u001b[1;32m---> 20\u001b[1;33m     \u001b[0mtitle\u001b[0m \u001b[1;33m=\u001b[0m \u001b[0mtmpstr\u001b[0m\u001b[1;33m.\u001b[0m\u001b[0mstring\u001b[0m\u001b[1;33m.\u001b[0m\u001b[0mstrip\u001b[0m\u001b[1;33m(\u001b[0m\u001b[1;33m)\u001b[0m\u001b[1;33m\u001b[0m\u001b[0m\n\u001b[0m\u001b[0;32m     21\u001b[0m     \u001b[1;31m# time\u001b[0m\u001b[1;33m\u001b[0m\u001b[1;33m\u001b[0m\u001b[0m\n\u001b[0;32m     22\u001b[0m     \u001b[0mmat1\u001b[0m \u001b[1;33m=\u001b[0m \u001b[0mre\u001b[0m\u001b[1;33m.\u001b[0m\u001b[0msearch\u001b[0m\u001b[1;33m(\u001b[0m\u001b[1;34mr\"(\\d{4}-\\d{2}-\\d{2})\"\u001b[0m\u001b[1;33m,\u001b[0m\u001b[0mauthAndTimeCtx\u001b[0m\u001b[1;33m)\u001b[0m\u001b[1;33m\u001b[0m\u001b[0m\n",
      "\u001b[1;31mAttributeError\u001b[0m: 'NoneType' object has no attribute 'strip'"
     ]
    }
   ],
   "source": [
    "url = \"http://www.ieee802.org/16/tgc/C1/index.html\"\n",
    "browser.open(url)\n",
    "html = browser.get_current_page()\n",
    "root = url[0:url.rfind('/')+1]\n",
    "# each page\n",
    "test = []\n",
    "prefix = \"\"\n",
    "for tag in html.find_all('b', href=False):    \n",
    "    tagtext = tag.text\n",
    "    if \"Contributed\" in tagtext or \"Contributions\" in tagtext:\n",
    "        for ul in tag.find_next_siblings('ul', class_=False):\n",
    "            # Session Info\n",
    "            if ul.b is not None:\n",
    "                sessionInfo = ul.b.text\n",
    "            elif ul.strong is not None:\n",
    "                sessionInfo = ul.strong.text\n",
    "            else:\n",
    "                sessionInfo = None\n",
    "            for li in ul.find_all('li', class_=False):\n",
    "                if li.a is not None:\n",
    "                    [time, title, author, fileLink, addiInfo] = parse(li, prefix)\n",
    "                    res.append([feature1, feature2, tagtext, sessionInfo, title, author, time, fileLink, addiInfo])\n",
    "    elif \"Official\" in tagtext or tagtext == \"Documents\" or \"Task\" in tagtext:\n",
    "        # Session Info\n",
    "        sessionInfo = None\n",
    "        if type(tag.parent.find_next_sibling('ul')) is not bs4.element.NavigableString and tag.parent.find_next_sibling('ul') is not None:\n",
    "            tmp = tag.parent\n",
    "            print(\"1\")\n",
    "        else:\n",
    "            tmp = tag\n",
    "            print(\"2\")\n",
    "        for li in tmp.find_all('li'):\n",
    "            if li.a is not None:\n",
    "                [time, title, author, fileLink, addiInfo] = parse(li, prefix)\n",
    "                res.append([feature1, feature2, tagtext, sessionInfo, title, author, time, fileLink, addiInfo])\n",
    "for tag in html.find_all('strong', href=False):\n",
    "    tagtext = tag.text\n",
    "    if \"Contributed\" in tagtext or \"Contributions\" in tagtext:\n",
    "        for ul in tag.parent.find_next_siblings('ul', class_=False):\n",
    "            # Session Info\n",
    "            if ul.b is not None:\n",
    "                sessionInfo = ul.b.text\n",
    "            elif ul.strong is not None:\n",
    "                sessionInfo = ul.strong.text\n",
    "            else:\n",
    "                sessionInfo = None\n",
    "            for li in ul.find_all('li', class_=False):\n",
    "                if li.a is not None:\n",
    "                    [time, title, author, fileLink, addiInfo] = parse(li, prefix)\n",
    "                    res.append([feature1, feature2, tagtext, sessionInfo, title, author, time, fileLink, addiInfo])\n",
    "    elif \"Official\" in tagtext or tagtext == \"Documents\" or \"Task\" in tagtext:\n",
    "        # Session Info\n",
    "        sessionInfo = None\n",
    "        if type(tag.parent.find_next_sibling('ul')) is not bs4.element.NavigableString and tag.parent.find_next_sibling('ul') is not None:\n",
    "            tmp = tag.parent\n",
    "        else:\n",
    "            tmp = tag\n",
    "        for li in tmp.find_all('li'):\n",
    "            if li.a is not None:\n",
    "                [time, title, author, fileLink, addiInfo] = parse(li, prefix)\n",
    "                res.append([feature1, feature2, tagtext, sessionInfo, title, author, time, fileLink, addiInfo])"
   ]
  },
  {
   "cell_type": "code",
   "execution_count": 209,
   "metadata": {},
   "outputs": [
    {
     "data": {
      "text/plain": [
       "2443"
      ]
     },
     "execution_count": 209,
     "metadata": {},
     "output_type": "execute_result"
    }
   ],
   "source": [
    "len(res)"
   ]
  },
  {
   "cell_type": "code",
   "execution_count": null,
   "metadata": {},
   "outputs": [],
   "source": [
    "==Documents or Contains Contributions or Contains Official or Contains Task"
   ]
  },
  {
   "cell_type": "code",
   "execution_count": 207,
   "metadata": {},
   "outputs": [
    {
     "data": {
      "text/plain": [
       "True"
      ]
     },
     "execution_count": 207,
     "metadata": {},
     "output_type": "execute_result"
    }
   ],
   "source": [
    "a = None\n",
    "a == None"
   ]
  },
  {
   "cell_type": "code",
   "execution_count": 164,
   "metadata": {},
   "outputs": [
    {
     "data": {
      "text/plain": [
       "True"
      ]
     },
     "execution_count": 164,
     "metadata": {},
     "output_type": "execute_result"
    }
   ],
   "source": [
    "type(tag.parent.next_sibling) is bs4.element.NavigableString"
   ]
  },
  {
   "cell_type": "code",
   "execution_count": 167,
   "metadata": {},
   "outputs": [
    {
     "data": {
      "text/plain": [
       "[<li><a href=\"docs/802161-01_08.pdf\">802.16.1-01/08</a><br/>\n",
       "     IEEE 802.16 TG1 MAC Meeting Minutes for Session #12 (01/03/21)\n",
       " \t</li>, <li><a href=\"docs/802161-01_07.pdf\">802.16.1-01/07</a><br/>\n",
       " \tIEEE 802.16.1 Action Report on Comment Resolution at Session #11 (01/02/18)\n",
       " \t</li>, <li><a href=\"docs/802161-01_06.pdf\">802.16.1-01/06</a><br/>\n",
       "     IEEE 802.16 MAC &amp; Task Group 1 Meeting Minutes for Session #11 (01/01/22)\n",
       " \t</li>, <li><a href=\"docs/802161-01_05.pdf\">802.16.1-01/05</a><br/>\n",
       "     Session #11 TG1 PHY minutes (01/01/26)\n",
       " \t</li>, <li><a href=\"docs/802161-01_04.pdf\">802.16.1-01/04</a><br/>\n",
       "     IEEE 802.16.1 Comment Resolutions at Session #11 (01/01/26)\n",
       " \t</li>, <li><a href=\"docs/802161-01_03.pdf\">802.16.1-01/03</a><br/>\n",
       "     IEEE 802.16.1 Comments for Session #11 (<a href=\"mailto:r.b.marks@ieee.org\">Roger Marks</a>, 01/01/17)\n",
       " \t</li>, <li><a href=\"docs/802161-01_02.pdf\">802.16.1-01/02</a><br/>\n",
       "     Call for Comments on IEEE 802.16.1/D1-2000 (\"Draft Standard for Air Interface for Fixed Broadband Wireless Access Systems\") (<a href=\"mailto:r.b.marks@ieee.org\">Roger Marks</a>, 01/01/02)\n",
       " \t</li>, <li><a href=\"docs/802161-01_01.doc\">802.16.1-01/01</a><br/>\n",
       "     IEEE 802.16.1 Comment Form (<a href=\"mailto:r.b.marks@ieee.org\">Roger Marks</a>, 01/01/02)\n",
       " \n",
       " \t</li>, <li><a href=\"session10_5.html\">Session #10.5 Report</a><br/>\n",
       "     Informal Report, IEEE 802.16 Task Group 1, Session #10.5 (<a href=\"mailto:r.b.marks@ieee.org\">Roger Marks</a>, 00/12/14)\n",
       " \t</li>, <li><a href=\"docs/802161-00_15.pdf\">802.16.1-00/15</a><br/>\n",
       "     Proposed Editorial Re-structuring of 80216-00/01r4 (<a href=\"mailto:g.sater@motorola.com\">Glen Sater</a> and <a href=\"mailto:carl.eklund@nokia.com\">Carl Eklund</a>, 00/12/14)\n",
       " \t</li>, <li><a href=\"docs/802161-00_14.pdf\">802.16.1-00/14</a><br/>\n",
       "     Minutes, IEEE 802.16 Task Group 1, Session #10.5 (<a href=\"mailto:r-meyer1@raytheon.com\">Ronald Meyer</a>, 00/12/14)\n",
       " \t</li>, <li><a href=\"docs/802161-00_13.pdf\">802.16.1-00/13</a><br/>\n",
       "     IEEE 802.16 MAC &amp; Task Group 1 Meeting Minutes for Session #10 (<a href=\"mailto:jzuniga@harris.com\">Juan Carlos Zuniga</a> and <a href=\"mailto:r-meyer1@raytheon.com\">Ronald Meyer</a>, 00/11/14)\n",
       " \t</li>, <li><a href=\"docs/802161-00_12.pdf\">802.16.1-00/12</a><br/>\n",
       "     IEEE 802.16.1 PHY Meeting Minutes, IEEE 802.16 Session #10 (<a href=\"mailto:liebetreu.john@sicom.com\">John Liebetreu</a>, 00/11/09)\n",
       " \t</li>, <li><a href=\"docs/802161-00_11r1.pdf\">802.16.1-00/11r1</a> [Rev. 0: <a href=\"mailto:jzuniga@harris.com\">Juan Carlos Zuniga</a>, <a href=\"mailto:w-hunter3@raytheon.com\">Wayne Hunter</a>, 00/10/09]<br/>\n",
       "     Comments Processed: Working Group Review of IEEE 802.16.1-00/01r4, (<a href=\"mailto:r.b.marks@ieee.org\">Roger B. Marks</a>, 01/01/02)\n",
       " \t</li>, <li><a href=\"docs/802161-00_10.pdf\">802.16.1-00/10</a><br/>\n",
       "     Comments Received: Working Group Review of IEEE 802.16.1-00/01r4 (<a href=\"mailto:jmollenauer@TechnicalStrategy.com\">James F. Mollenauer</a>, 00/10/09)\n",
       " \t</li>, <li><a href=\"docs/802161-00_09.pdf\">802.16.1-00/09</a><br/>\n",
       "     802.16.1 Comments Resolved at Session #9 (<a href=\"mailto:pguillemette@spacebridge.com\">Phil Guillemette</a>, <a href=\"mailto:jeffrey.r.foerster@intel.com\">Jeffrey R. Foerster</a>, <a href=\"mailto:brian_petry@3com.com\">Brian Petry</a>, 00/09/27)\n",
       " \t</li>, <li><a href=\"docs/802161-00_08.pdf\">802.16.1-00/08</a><br/>\n",
       "     IEEE 802.16.1 PHY Meeting Minutes, IEEE 802.16 Session #9 [Approved] (<a href=\"mailto:liebetreu.john@sicom.com\">John Liebetreu</a>, 00/09/25)\n",
       " \t</li>, <li><a href=\"docs/802161-00_07.pdf\">802.16.1-00/07</a><br/>\n",
       "     IEEE 802.16.1 MAC &amp; Task Group 1 Meeting Minutes, IEEE 802.16 Session #9, (<a href=\"mailto:jzuniga@harris.com\">Juan Carlos Zuniga</a>, 00/09/25)\n",
       " \t</li>, <li><a href=\"docs/802161-00_06.pdf\">802.16.1-00/06</a><br/>\n",
       "     IEEE 802.16.1 Call for Contributions on Specific Open Technical Issues\n",
       " \t</li>, <li><a href=\"docs/802161-00_05r1.pdf\">802.16.1-00/05r1</a><br/>\n",
       " \tWorking Group Review: Call for Comments on IEEE 802.16.1-00/01r4\n",
       " \t</li>, <li><a href=\"docs/802161-00_04.pdf\">802.16.1-00/04</a><br/>\n",
       "     Comparison between TG3 Functional Requirements Document and TG1 proposed MAC\n",
       " \t</li>, <li><a href=\"docs/802161-00_03.pdf\">802.16.1-00/03</a> (2000-08-30)<br/>\n",
       "      IEEE 802.16.1 Task Group Meeting Minutes for Session #8\n",
       " \t</li>, <li><a href=\"docs/802161-00_02r1.pdf\">802.16.1-00/02r1</a> (2000-08-10) [Rev. 1: (2000-08-08)]<br/>\n",
       "      IEEE 802.16.1 Final Task Group Review (Call for Comments on 802.16.1-00/01r1)\n",
       " \t</li>, <li><a href=\"docs/802161-00_01r4.pdf\">802.16.1-00/01r4</a> (2000-09-29) [Rev. 2: (2000-09-10); Rev. 1: (2000-08-10); Rev. 0: (2000-08-08)]<br/>\n",
       "      Air Interface for Fixed Broadband Wireless Access Systems [Acrobat 4 format]<br/>\n",
       " </li>, <li><a href=\"../docs/99/80216-99_06d0.pdf\">802.16-99/06d0</a> (1999-09-23)<br/>\n",
       " \tOutline of the 802.16.1 Air Interface Standard\n",
       " \t</li>, <li><a href=\"../docs/99/80216-99_05.pdf\">802.16-99/05</a> (1999-09-23)<br/>\n",
       " \tDevelopment Plan for the 802.16.1 Air Interface Standard\n",
       " \t</li>, <li><a href=\"docs/802161-99_00.pdf\">802.16.1-99/00</a> (2000-11-30)<br/>\n",
       "     Project Authorization Request (PAR): Air Interface for Fixed Broadband Wireless Access Systems [<em>obsolete</em>]\n",
       "     </li>, <li><a href=\"../sysreq/docs/80216s-99_00r1.pdf\">802.16s-99/00r1</a> [<a href=\"../sysreq/docs/80216s-99_00r1.doc\">or Word version</a>] (1999-12-17)<br/>\n",
       "     802.16.1 Functional Requirements Document\n",
       " </li>]"
      ]
     },
     "execution_count": 167,
     "metadata": {},
     "output_type": "execute_result"
    }
   ],
   "source": [
    "tag.find_next_sibling('ul').find_all('li')"
   ]
  },
  {
   "cell_type": "code",
   "execution_count": null,
   "metadata": {},
   "outputs": [],
   "source": [
    "test =  'http://www.ieee802.org/16/tgc/C2/index.html'\n",
    "test[0:test.rfind('/')+1]"
   ]
  }
 ],
 "metadata": {
  "kernelspec": {
   "display_name": "Python 3",
   "language": "python",
   "name": "python3"
  },
  "language_info": {
   "codemirror_mode": {
    "name": "ipython",
    "version": 3
   },
   "file_extension": ".py",
   "mimetype": "text/x-python",
   "name": "python",
   "nbconvert_exporter": "python",
   "pygments_lexer": "ipython3",
   "version": "3.7.0"
  }
 },
 "nbformat": 4,
 "nbformat_minor": 2
}
