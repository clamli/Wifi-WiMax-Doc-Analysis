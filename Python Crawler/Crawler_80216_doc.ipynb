{
 "cells": [
  {
   "cell_type": "markdown",
   "metadata": {},
   "source": [
    "# IEEE 802.16 Documents"
   ]
  },
  {
   "cell_type": "code",
   "execution_count": 327,
   "metadata": {},
   "outputs": [],
   "source": [
    "import mechanicalsoup\n",
    "from bs4 import BeautifulSoup\n",
    "import re\n",
    "import xlwt"
   ]
  },
  {
   "cell_type": "code",
   "execution_count": 320,
   "metadata": {},
   "outputs": [
    {
     "data": {
      "text/plain": [
       "<Response [200]>"
      ]
     },
     "execution_count": 320,
     "metadata": {},
     "output_type": "execute_result"
    }
   ],
   "source": [
    "# Connect to IEEE 802.16 Documents\n",
    "browser = mechanicalsoup.StatefulBrowser()\n",
    "root = \"http://www.ieee802.org/16/docs/\"\n",
    "url = \"http://www.ieee802.org/16/docs/index.html#contrib\"\n",
    "browser.open(url)"
   ]
  },
  {
   "cell_type": "code",
   "execution_count": 321,
   "metadata": {},
   "outputs": [],
   "source": [
    "# Get html content\n",
    "html = browser.get_current_page()"
   ]
  },
  {
   "cell_type": "code",
   "execution_count": 322,
   "metadata": {},
   "outputs": [],
   "source": [
    "# Official/Contribution, ocs, 24\n",
    "offiOrContri = html.find_all('p')\n",
    "offiOrContri = offiOrContri[4:len(offiOrContri)-1]\n",
    "ocs = []\n",
    "for oc in offiOrContri:\n",
    "    if oc.b is None:\n",
    "        ocs.append(oc.strong.text)\n",
    "    else:\n",
    "        ocs.append(oc.b.text)"
   ]
  },
  {
   "cell_type": "code",
   "execution_count": 323,
   "metadata": {},
   "outputs": [],
   "source": [
    "# Other features, 24\n",
    "contexts = html.find_all('ul')"
   ]
  },
  {
   "cell_type": "markdown",
   "metadata": {},
   "source": [
    "### Crawler all data into list"
   ]
  },
  {
   "cell_type": "code",
   "execution_count": 324,
   "metadata": {},
   "outputs": [
    {
     "name": "stdout",
     "output_type": "stream",
     "text": [
      "Crawler Done!\n"
     ]
    }
   ],
   "source": [
    "res = []\n",
    "total = len(offiOrContri)\n",
    "for (idx, oc, context) in zip(range(total), ocs, contexts):\n",
    "    cnt = 0\n",
    "    if \"Official\" in oc or \"Documents\" in oc:\n",
    "        f = 0\n",
    "    elif \"Contributions\" in oc:\n",
    "        f = 1\n",
    "    for li in context:\n",
    "        cnt = cnt + 1\n",
    "        if cnt == 1: \n",
    "            continue\n",
    "        # each record\n",
    "        [time, title, author, fileLink, addiInfo] = parse(li)\n",
    "        res.append([f, time, title, author, fileLink, addiInfo])\n",
    "print(\"Crawler Done!\")"
   ]
  },
  {
   "cell_type": "markdown",
   "metadata": {},
   "source": [
    "### Save list into excel file"
   ]
  },
  {
   "cell_type": "code",
   "execution_count": 330,
   "metadata": {},
   "outputs": [],
   "source": [
    "filename = \"\"\n",
    "book = xlwt.Workbook(encoding=\"utf-8\")\n",
    "sheet1 = book.add_sheet(\"Sheet 1\")\n",
    "sheet1.write(0, 0, \"Official/Contribution\")\n",
    "sheet1.write(0, 1, \"Time\")\n",
    "sheet1.write(0, 2, \"Title\")\n",
    "sheet1.write(0, 3, \"Author\")\n",
    "sheet1.write(0, 4, \"File Link\")\n",
    "sheet1.write(0, 5, \"Additional Information\")"
   ]
  },
  {
   "cell_type": "code",
   "execution_count": 331,
   "metadata": {},
   "outputs": [],
   "source": [
    "for idx1, line in zip(range(1, len(res)+1), res):\n",
    "    for idx2, val in zip(range(0, len(line)), line):\n",
    "        sheet1.write(idx1, idx2, val)"
   ]
  },
  {
   "cell_type": "code",
   "execution_count": 332,
   "metadata": {},
   "outputs": [],
   "source": [
    "book.save(\"802_16_Documents.xls\")"
   ]
  },
  {
   "cell_type": "code",
   "execution_count": null,
   "metadata": {},
   "outputs": [],
   "source": []
  },
  {
   "cell_type": "code",
   "execution_count": null,
   "metadata": {},
   "outputs": [],
   "source": []
  },
  {
   "cell_type": "code",
   "execution_count": null,
   "metadata": {},
   "outputs": [],
   "source": []
  },
  {
   "cell_type": "code",
   "execution_count": null,
   "metadata": {},
   "outputs": [],
   "source": []
  },
  {
   "cell_type": "markdown",
   "metadata": {},
   "source": [
    "### Util functions"
   ]
  },
  {
   "cell_type": "code",
   "execution_count": 295,
   "metadata": {},
   "outputs": [],
   "source": [
    "def parse(li):\n",
    "    conts = li.contents\n",
    "    tmpstr = conts[-1]\n",
    "    if tmpstr.find('(') == -1 or tmpstr.find(')') == -1:\n",
    "        authAndTimeCtx = \"\"\n",
    "    else:\n",
    "        authAndTimeCtx = tmpstr[tmpstr.find('(')+1:tmpstr.find(')')]\n",
    "    # File link\n",
    "    fileLink = root + li.find_all('a', href=True)[0]['href']\n",
    "    # title\n",
    "    title = tmpstr.strip()\n",
    "    # time\n",
    "    mat1 = re.search(r\"(\\d{4}-\\d{2}-\\d{2})\",authAndTimeCtx)\n",
    "    if mat1 is not None:\n",
    "        time = mat1.group(0)\n",
    "    else:\n",
    "        mat2 = re.search(r\"(\\d{2}/\\d{2}/\\d{2})\",authAndTimeCtx)\n",
    "        if mat2 is not None:\n",
    "            time = mat2.group(0)\n",
    "            time = time.replace(\"/\", \"-\");\n",
    "            year = int(time[0:2])\n",
    "            if year >= 80:\n",
    "                time = \"19\" + time\n",
    "            else:\n",
    "                time = \"20\" + time\n",
    "        else:\n",
    "            time = None\n",
    "    # author\n",
    "    tmpsplit = re.split('[;,]', authAndTimeCtx)\n",
    "    author = \"\"\n",
    "    for ele in tmpsplit:\n",
    "        mat1 = re.search(r\"(\\d{4}-\\d{2}-\\d{2})\", ele)\n",
    "        mat2 = re.search(r\"(\\d{2}/\\d{2}/\\d{2})\",ele)\n",
    "        if mat1 is None and mat2 is None:\n",
    "            author += ele + \";\"\n",
    "    if author is \"\":\n",
    "        author = None\n",
    "    # addiInfo\n",
    "    addiInfo = \"\"\n",
    "    for idx in range(1, len(conts)-1):\n",
    "        tmp = str(conts[idx])\n",
    "        if tmp != '<br/>':\n",
    "            addiInfo += tmp\n",
    "    if addiInfo is \"\":\n",
    "        addiInfo = None\n",
    "    return [time, title, author, fileLink, addiInfo]"
   ]
  },
  {
   "cell_type": "code",
   "execution_count": 267,
   "metadata": {},
   "outputs": [
    {
     "data": {
      "text/plain": [
       "['1999-11-16',\n",
       " 'IEEE 802.16 WG Letter Ballot #34 Comments (99/11/16)',\n",
       " None,\n",
       " 'http://www.ieee802.org/16/docs/11/80216-11_0041r3.zip',\n",
       " ' (<a href=\"11/80216-11_0041r2.zip\">IEEE 802.16-11/0041r2</a>: 2011-11-10; <a href=\"11/80216-11_0041r1.zip\">IEEE 802.16-11/0041r1</a>: 2011-11-08; <a href=\"11/80216-11_0041.zip\">IEEE 802.16-11/0041</a>: 2011-11-07)']"
      ]
     },
     "execution_count": 267,
     "metadata": {},
     "output_type": "execute_result"
    }
   ],
   "source": [
    "str1 = \"<li><a href='11/80216-11_0051.pdf' name='11_0051'>IEEE 802.16-11/0051</a><br/> IEEE 802.16 Working Group Letter Ballot #36: Announcement (Muya Wachira, Roger Marks, Phil Whitehead, 802.16 TG2, 01/01/10)</li>\"\n",
    "str2 = \"<li><a href='11/80216-11_0041r3.zip' name='11_0041'>IEEE 802.16-11/0041r3</a> (<a href='11/80216-11_0041r2.zip'>IEEE 802.16-11/0041r2</a>: 2011-11-10; <a href='11/80216-11_0041r1.zip'>IEEE 802.16-11/0041r1</a>: 2011-11-08; <a href='11/80216-11_0041.zip'>IEEE 802.16-11/0041</a>: 2011-11-07)<br/> IEEE 802.16 WG Letter Ballot #34 Comments (99/11/16)</li>\"\n",
    "soup = BeautifulSoup(str2)\n",
    "parse(soup.li)"
   ]
  },
  {
   "cell_type": "code",
   "execution_count": null,
   "metadata": {},
   "outputs": [],
   "source": []
  },
  {
   "cell_type": "code",
   "execution_count": null,
   "metadata": {},
   "outputs": [],
   "source": []
  }
 ],
 "metadata": {
  "kernelspec": {
   "display_name": "Python 3",
   "language": "python",
   "name": "python3"
  },
  "language_info": {
   "codemirror_mode": {
    "name": "ipython",
    "version": 3
   },
   "file_extension": ".py",
   "mimetype": "text/x-python",
   "name": "python",
   "nbconvert_exporter": "python",
   "pygments_lexer": "ipython3",
   "version": "3.7.0"
  }
 },
 "nbformat": 4,
 "nbformat_minor": 2
}
