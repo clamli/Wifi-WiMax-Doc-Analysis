{
 "cells": [
  {
   "cell_type": "code",
   "execution_count": 182,
   "metadata": {},
   "outputs": [],
   "source": [
    "import re\n",
    "import string as stri\n",
    "import requests\n",
    "from xlrd import open_workbook\n",
    "import xlwt"
   ]
  },
  {
   "cell_type": "code",
   "execution_count": 43,
   "metadata": {},
   "outputs": [
    {
     "name": "stdout",
     "output_type": "stream",
     "text": [
      "100.00%\r"
     ]
    }
   ],
   "source": [
    "results = getInfo(\"802_16_Completed_Projects.xls\")\n",
    "output = []\n",
    "files = set()\n",
    "total = len(results)\n",
    "for idx, result in zip(range(total), results):\n",
    "    print(\"%.2f%%\"%((idx+1)*100/total), end='\\r')\n",
    "    url = result[7]  # file link\n",
    "    filename = url[url.rfind('/')+1:]\n",
    "    if filename in files:\n",
    "        continue\n",
    "    files.add(filename)\n",
    "    getFileFromUrl(\"clean data/80216CompProj/\", url, filename)\n",
    "    result[5] = getName(result[4])  # author name, generated from title\n",
    "    result.append(filename)\n",
    "    output.append(result)"
   ]
  },
  {
   "cell_type": "code",
   "execution_count": 48,
   "metadata": {},
   "outputs": [
    {
     "data": {
      "text/plain": [
       "8441"
      ]
     },
     "execution_count": 48,
     "metadata": {},
     "output_type": "execute_result"
    }
   ],
   "source": [
    "len(output)"
   ]
  },
  {
   "cell_type": "code",
   "execution_count": 256,
   "metadata": {},
   "outputs": [],
   "source": [
    "def getName(string):\n",
    "    author = \"\"\n",
    "    if (string.rfind('(') != -1 and string.rfind(')') != -1):\n",
    "        end = string.rfind(')')\n",
    "        start = getStartEnd(string, end)\n",
    "        content = string[start+1:end]\n",
    "        tokens = re.split(';\\s*|,\\s*|\\s+and\\s+', content)\n",
    "        for token in tokens:\n",
    "            token = token.strip()\n",
    "            mat1 = re.search(r\"(\\d{4}-\\d{2}-\\d{2})\", token)\n",
    "            mat2 = re.search(r\"(\\d{2}/\\d{2}/\\d{2})\", token)\n",
    "            mat3 = re.search(r\"(\\d{4}-\\d{2})\", token)\n",
    "            if mat1 is not None or mat2 is not None or mat3 is not None:\n",
    "                continue\n",
    "            token = token.replace('et al.', '')\n",
    "            token = token.replace('et. al', '')\n",
    "            token = token.replace('et al', '')\n",
    "            token = token.strip()\n",
    "            if token != \"\":\n",
    "                author += token + \";\"\n",
    "    return author"
   ]
  },
  {
   "cell_type": "code",
   "execution_count": 247,
   "metadata": {},
   "outputs": [],
   "source": [
    "p = re.compile(r'et[.*] al[.*]')\n",
    "m=p.match(\"Inseok Hwang et. al.\")"
   ]
  },
  {
   "cell_type": "code",
   "execution_count": 242,
   "metadata": {},
   "outputs": [
    {
     "ename": "AttributeError",
     "evalue": "'NoneType' object has no attribute 'group'",
     "output_type": "error",
     "traceback": [
      "\u001b[1;31m---------------------------------------------------------------------------\u001b[0m",
      "\u001b[1;31mAttributeError\u001b[0m                            Traceback (most recent call last)",
      "\u001b[1;32m<ipython-input-242-b9a6738fa293>\u001b[0m in \u001b[0;36m<module>\u001b[1;34m()\u001b[0m\n\u001b[1;32m----> 1\u001b[1;33m \u001b[0mm\u001b[0m\u001b[1;33m.\u001b[0m\u001b[0mgroup\u001b[0m\u001b[1;33m(\u001b[0m\u001b[1;33m)\u001b[0m\u001b[1;33m\u001b[0m\u001b[0m\n\u001b[0m",
      "\u001b[1;31mAttributeError\u001b[0m: 'NoneType' object has no attribute 'group'"
     ]
    }
   ],
   "source": [
    "m.group()"
   ]
  },
  {
   "cell_type": "code",
   "execution_count": 254,
   "metadata": {},
   "outputs": [],
   "source": [
    "#Number of pilots in OFDM FFT=256 mode with UL subchanelization (Naftali Chayat,02/11/14)\n",
    "author = getName(\"Corrections for PRBS Operation in AAS Zone with Diversity Map Support (Inseok Hwang et al)\")"
   ]
  },
  {
   "cell_type": "code",
   "execution_count": 255,
   "metadata": {},
   "outputs": [
    {
     "data": {
      "text/plain": [
       "'Inseok Hwang;'"
      ]
     },
     "execution_count": 255,
     "metadata": {},
     "output_type": "execute_result"
    }
   ],
   "source": [
    "author"
   ]
  },
  {
   "cell_type": "code",
   "execution_count": 117,
   "metadata": {},
   "outputs": [],
   "source": [
    "def getStartEnd(string, end):\n",
    "    cnt = 0\n",
    "    for idx in range(end-1, -1, -1):\n",
    "        if string[idx] == ')':\n",
    "            cnt += 1\n",
    "        elif string[idx] == '(' and cnt == 0:\n",
    "            break\n",
    "        elif string[idx] == '(':\n",
    "            cnt -= 1    \n",
    "    return idx    "
   ]
  },
  {
   "cell_type": "code",
   "execution_count": 37,
   "metadata": {},
   "outputs": [],
   "source": [
    "def getInfo(filename):\n",
    "    book = open_workbook(filename, on_demand=True)\n",
    "    book.sheet_names()\n",
    "    results = []\n",
    "    for name in book.sheet_names():\n",
    "        sheet = book.sheet_by_name(name)\n",
    "        for row in range(1, sheet.nrows):\n",
    "            result = []\n",
    "            for cell in sheet.row(row):\n",
    "                result.append(cell.value)\n",
    "            results.append(result)\n",
    "    return results"
   ]
  },
  {
   "cell_type": "code",
   "execution_count": 40,
   "metadata": {},
   "outputs": [],
   "source": [
    "def getFileFromUrl(path, url, filename):\n",
    "    response = requests.get(url, allow_redirects=True)\n",
    "    with open(path + filename, 'wb') as file:\n",
    "        file.write(response.content)"
   ]
  },
  {
   "cell_type": "code",
   "execution_count": 258,
   "metadata": {},
   "outputs": [],
   "source": [
    "filename = \"clean data/802_16_Completed_Projects.xls\"\n",
    "book = xlwt.Workbook(encoding=\"utf-8\")\n",
    "sheet1 = book.add_sheet(\"Sheet 1\")\n",
    "sheet1.write(0, 0, \"Feature1\")\n",
    "sheet1.write(0, 1, \"Feature2\")\n",
    "sheet1.write(0, 2, \"Tag Text\")\n",
    "sheet1.write(0, 3, \"Session Info\")\n",
    "sheet1.write(0, 4, \"Title\")\n",
    "sheet1.write(0, 5, \"Author\")\n",
    "sheet1.write(0, 6, \"Time\")\n",
    "sheet1.write(0, 7, \"File Link\")\n",
    "sheet1.write(0, 8, \"Additional Infoamtion\")\n",
    "sheet1.write(0, 9, \"Filename\")"
   ]
  },
  {
   "cell_type": "code",
   "execution_count": 259,
   "metadata": {},
   "outputs": [],
   "source": [
    "# [feature1, feature2, tagtext, sessionInfo, title, author, time, fileLink, addiInfo]\n",
    "for idx1, line in zip(range(1, len(output)+1), output):\n",
    "    for idx2, val in zip(range(0, len(line)), line):\n",
    "        sheet1.write(idx1, idx2, val)"
   ]
  },
  {
   "cell_type": "code",
   "execution_count": 260,
   "metadata": {},
   "outputs": [],
   "source": [
    "book.save(filename)"
   ]
  },
  {
   "cell_type": "code",
   "execution_count": null,
   "metadata": {},
   "outputs": [],
   "source": []
  },
  {
   "cell_type": "code",
   "execution_count": null,
   "metadata": {},
   "outputs": [],
   "source": []
  },
  {
   "cell_type": "code",
   "execution_count": null,
   "metadata": {},
   "outputs": [],
   "source": []
  },
  {
   "cell_type": "code",
   "execution_count": null,
   "metadata": {},
   "outputs": [],
   "source": []
  },
  {
   "cell_type": "code",
   "execution_count": 257,
   "metadata": {},
   "outputs": [
    {
     "name": "stdout",
     "output_type": "stream",
     "text": [
      "100.00%\r"
     ]
    }
   ],
   "source": [
    "results = getInfo(\"clean data/802_16_Completed_Projects.xls\")\n",
    "output = []\n",
    "total = len(results)\n",
    "for idx, result in zip(range(total), results):\n",
    "    print(\"%.2f%%\"%((idx+1)*100/total), end='\\r')\n",
    "    result[5] = getName(result[4])  # author name, generated from title\n",
    "    output.append(result)"
   ]
  },
  {
   "cell_type": "code",
   "execution_count": null,
   "metadata": {},
   "outputs": [],
   "source": []
  }
 ],
 "metadata": {
  "kernelspec": {
   "display_name": "Python 3",
   "language": "python",
   "name": "python3"
  },
  "language_info": {
   "codemirror_mode": {
    "name": "ipython",
    "version": 3
   },
   "file_extension": ".py",
   "mimetype": "text/x-python",
   "name": "python",
   "nbconvert_exporter": "python",
   "pygments_lexer": "ipython3",
   "version": "3.7.0"
  }
 },
 "nbformat": 4,
 "nbformat_minor": 2
}
